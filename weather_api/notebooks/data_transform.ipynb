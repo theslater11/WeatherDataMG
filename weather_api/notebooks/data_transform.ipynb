{
 "cells": [
  {
   "cell_type": "code",
   "execution_count": 245,
   "metadata": {},
   "outputs": [],
   "source": [
    "import pandas as pd\n",
    "import numpy as np"
   ]
  },
  {
   "cell_type": "markdown",
   "metadata": {},
   "source": [
    "### Goal: to retrieve professionally collected weather data from an online source to predict coffee harvests in Minas Gerais, Brazil"
   ]
  },
  {
   "cell_type": "markdown",
   "metadata": {},
   "source": [
    "##### This notebook will be used to resample, collect, and save median values of each selected measureable for different time periods to allow us to perform exploratory data analysis on trends and correlations between months and years."
   ]
  },
  {
   "cell_type": "code",
   "execution_count": 246,
   "metadata": {},
   "outputs": [],
   "source": [
    "#Files output by weather_api.py, and removing nulls\n",
    "weather = pd.read_csv(\"/Users/sa12/Documents/Repositories/WeatherDataMG/weather_api/data/csv/measurements.csv\").dropna()\n",
    "harvest = pd.read_csv(\"/Users/sa12/Documents/Repositories/WeatherDataMG/weather_api/data/csv/br_final.csv\").dropna()\n",
    "extra = pd.read_csv(\"/Users/sa12/Documents/Repositories/WeatherDataMG/weather_api/data/csv/extra_measure.csv\")"
   ]
  },
  {
   "cell_type": "code",
   "execution_count": 247,
   "metadata": {},
   "outputs": [],
   "source": [
    "#set DatetimeIndex for easy resampling\n",
    "weather1 = weather.set_index(pd.DatetimeIndex(weather[\"time\"]))\n"
   ]
  },
  {
   "cell_type": "code",
   "execution_count": 248,
   "metadata": {},
   "outputs": [],
   "source": [
    "extra1 = extra.set_index(pd.DatetimeIndex(extra[\"time\"]))"
   ]
  },
  {
   "cell_type": "code",
   "execution_count": 249,
   "metadata": {},
   "outputs": [],
   "source": [
    "monthly_temps = weather1.resample(\"ME\")[\"temperature\"].median()\n",
    "#resampling tempurature_2m\n",
    "yearly_temps = weather1.resample(\"YE\")[\"temperature\"].median()\n",
    "extra_temps = extra1.resample(\"YE\")[\"temperature\"].median()\n"
   ]
  },
  {
   "cell_type": "code",
   "execution_count": 250,
   "metadata": {},
   "outputs": [],
   "source": [
    "monthly_humidity = weather1.resample(\"ME\")[\"humidity\"].median()\n",
    "#resampling realative_humidity\n",
    "yearly_humidity = weather1.resample(\"YE\")[\"humidity\"].median()\n",
    "extra_humidity = extra1.resample(\"YE\")[\"humidity\"].median()"
   ]
  },
  {
   "cell_type": "code",
   "execution_count": 251,
   "metadata": {},
   "outputs": [],
   "source": [
    "monthly_rain = weather1.resample(\"ME\")[\"precipitation\"].median()\n",
    "#resampling precipitation\n",
    "yearly_rain = weather1.resample(\"YE\")[\"precipitation\"].median()\n",
    "extra_rain = extra1.resample(\"YE\")[\"precipitation\"].median()"
   ]
  },
  {
   "cell_type": "code",
   "execution_count": 252,
   "metadata": {},
   "outputs": [],
   "source": [
    "monthly_psr = weather1.resample(\"ME\")[\"pressure\"].median()\n",
    "#resampling surface_pressure_2m\n",
    "yearly_psr = weather1.resample(\"YE\")[\"pressure\"].median()\n",
    "extra_psr = extra1.resample(\"YE\")[\"pressure\"].median()"
   ]
  },
  {
   "cell_type": "markdown",
   "metadata": {},
   "source": [
    "##### This block creates dataframes of the combined resamples for each timeframe, than saves those to csv files at the weather_api/data/csv path"
   ]
  },
  {
   "cell_type": "code",
   "execution_count": 253,
   "metadata": {},
   "outputs": [],
   "source": [
    "#saving the median values of each month\n",
    "Monthly_Medians = pd.DataFrame({\"temperature\":monthly_temps, \n",
    "                                \"humidity\":monthly_humidity, \n",
    "                                \"precipitation\":monthly_rain, \n",
    "                                \"pressure\":monthly_psr\n",
    "                                \n",
    "                                })\n",
    "Monthly_Medians.to_csv(\"/Users/sa12/Documents/Repositories/WeatherDataMG/weather_api/data/csv/MonthlyMedians.csv\", index=True)\n",
    "#saving the median values of each year\n",
    "Yearly_Medians = pd.DataFrame({\"temperature\":yearly_temps, \n",
    "                               \"humidity\":yearly_humidity, \n",
    "                               \"precipitation\":yearly_rain, \n",
    "                               \"pressure\":yearly_psr})\n",
    "Yearly_Medians.to_csv(\"/Users/sa12/Documents/Repositories/WeatherDataMG/weather_api/data/csv/YearlyMedians.csv\", index=True)\n",
    "Extra_Medians = pd.DataFrame({\"temperature\":extra_temps, \n",
    "                               \"humidity\":extra_humidity, \n",
    "                               \"precipitation\":extra_rain, \n",
    "                               \"pressure\":extra_psr})"
   ]
  },
  {
   "cell_type": "markdown",
   "metadata": {},
   "source": [
    "##### Creating a single file with weather data in Minas Gerais taken from our web API combined with harvest data given to us in \"br_final.csv\""
   ]
  },
  {
   "cell_type": "code",
   "execution_count": 257,
   "metadata": {},
   "outputs": [],
   "source": [
    "minas_harvest = harvest[harvest[\"subdivision\"] == \"Minas Gerais\"].drop_duplicates()\n",
    "#a nifty iteration to take only the data from Minas Gerais. \n",
    "#If the bool is True, the whole rows data is collected\n",
    "#setting index to year is important, we will merge based on year\n",
    "minas_harvest = minas_harvest.set_index(minas_harvest[\"year\"])\n",
    "#Yearly_Medians already is resampled and index to Datetime\n",
    "Yearly_Medians1 = Yearly_Medians.reset_index(drop=False)\n",
    "#we remove that index and rename \"time to \"year\" creating uniformity\n",
    "Yearly_Medians1=Yearly_Medians1.rename(columns = {'time':'year'})\n",
    "#create a new variable to hold only the datetime value of the \"year\" column\n",
    "Yearly_Medians2 = pd.to_datetime(Yearly_Medians1[\"year\"], format=\"mixed\", yearfirst=True)\n",
    "#take only the year from this and overwrite the year data in our original variable\n",
    "Yearly_Medians1[\"year\"] = Yearly_Medians2.dt.year\n",
    "#and set the index to this single year, matching the format of minas_harvest\n",
    "Yearly_Medians1.set_index(Yearly_Medians1[\"year\"], inplace=True)\n",
    "#Now we merge outer, combining the indcies and data correctly\n",
    "harvest_weather = pd.merge(minas_harvest, Yearly_Medians1, how=\"outer\", left_index=True, right_index=True)\n",
    "#save to path weather_api/data/csv/harvest_weather.csv\n",
    "harvest_weather.to_csv(\"/Users/sa12/Documents/Repositories/WeatherDataMG/weather_api/data/csv/harvest_weather.csv\", index=True)"
   ]
  },
  {
   "cell_type": "code",
   "execution_count": 258,
   "metadata": {},
   "outputs": [
    {
     "name": "stdout",
     "output_type": "stream",
     "text": [
      "            temperature  humidity  precipitation  pressure\n",
      "time                                                      \n",
      "2017-12-31          NaN       NaN            NaN       NaN\n",
      "2018-12-31          NaN       NaN            NaN       NaN\n",
      "2019-12-31          NaN       NaN            NaN       NaN\n",
      "2020-12-31          NaN       NaN            NaN       NaN\n",
      "2021-12-31         18.0      73.0            0.0     911.6\n",
      "2022-12-31         18.6      78.0            0.0     911.4\n",
      "2023-12-31         20.7      78.0            0.0     913.4\n"
     ]
    }
   ],
   "source": [
    "Extra_Medians1 = Extra_Medians.reset_index(drop=False)\n",
    "#we remove that index and rename \"time to \"year\" creating uniformity\n",
    "Extra_Medians1=Extra_Medians1.rename(columns = {'time':'year'})\n",
    "#create a new variable to hold only the datetime value of the \"year\" column\n",
    "Extra_Medians2 = pd.to_datetime(Extra_Medians1[\"year\"], format=\"mixed\", yearfirst=True)\n",
    "#take only the year from this and overwrite the year data in our original variable\n",
    "Extra_Medians1[\"year\"] = Extra_Medians2.dt.year\n",
    "#and set the index to this single year, matching the format of minas_harvest\n",
    "Extra_Medians1.set_index(Extra_Medians1[\"year\"], inplace=True)\n",
    "#Now we merge outer, combining the indcies and data correctly\n",
    "extra_harvest_weather = pd.merge(minas_harvest, Extra_Medians1, how=\"outer\", left_index=True, right_index=True)\n",
    "extra_harvest_weather.to_csv(\"/Users/sa12/Documents/Repositories/WeatherDataMG/weather_api/data/csv/extra_harvest_weather.csv\", index=True)"
   ]
  }
 ],
 "metadata": {
  "kernelspec": {
   "display_name": "base",
   "language": "python",
   "name": "python3"
  },
  "language_info": {
   "codemirror_mode": {
    "name": "ipython",
    "version": 3
   },
   "file_extension": ".py",
   "mimetype": "text/x-python",
   "name": "python",
   "nbconvert_exporter": "python",
   "pygments_lexer": "ipython3",
   "version": "3.12.4"
  }
 },
 "nbformat": 4,
 "nbformat_minor": 2
}
