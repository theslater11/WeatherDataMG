{
 "cells": [
  {
   "cell_type": "code",
   "execution_count": 32,
   "metadata": {},
   "outputs": [],
   "source": [
    "import pandas as pd\n",
    "import numpy as np\n",
    "import matplotlib.pyplot as plt\n",
    "import seaborn as sns"
   ]
  },
  {
   "cell_type": "markdown",
   "metadata": {},
   "source": [
    "### Goal: to retrieve professionally collected weather data from an online source to predict coffee harvests in Minas Gerais, Brazil"
   ]
  },
  {
   "cell_type": "markdown",
   "metadata": {},
   "source": [
    "##### This notebook will be used to resample, collect, and save median values of each selected measureable for different time periods to allow us to perform exploratory data analysis on trends and correlations between months and years."
   ]
  },
  {
   "cell_type": "code",
   "execution_count": 33,
   "metadata": {},
   "outputs": [
    {
     "data": {
      "text/plain": [
       "country               0\n",
       "subdivision           0\n",
       "type                  0\n",
       "million_60kgs_bag     0\n",
       "year                  0\n",
       "nonbear_mill_trees    0\n",
       "bear_mill_trees       0\n",
       "nonbear_thous_hect    0\n",
       "bear_thous_hect       0\n",
       "trees_hect_bear       0\n",
       "trees_hect_nonbear    0\n",
       "avg_unemp_perc        0\n",
       "dtype: int64"
      ]
     },
     "execution_count": 33,
     "metadata": {},
     "output_type": "execute_result"
    }
   ],
   "source": [
    "#Files output by weather_api.py, and removing nulls\n",
    "weather = pd.read_csv(\"/Users/sa12/Documents/Repositories/WeatherDataMG/weather_api/data/csv/measurements.csv\").dropna()\n",
    "harvest = pd.read_csv(\"/Users/sa12/Documents/Repositories/WeatherDataMG/weather_api/data/csv/br_final.csv\").dropna()\n",
    "harvest.isna().sum()"
   ]
  },
  {
   "cell_type": "code",
   "execution_count": 10,
   "metadata": {},
   "outputs": [
    {
     "ename": "TypeError",
     "evalue": "string indices must be integers, not 'str'",
     "output_type": "error",
     "traceback": [
      "\u001b[0;31m---------------------------------------------------------------------------\u001b[0m",
      "\u001b[0;31mTypeError\u001b[0m                                 Traceback (most recent call last)",
      "Cell \u001b[0;32mIn[10], line 10\u001b[0m\n\u001b[1;32m      8\u001b[0m \u001b[38;5;66;03m#print(harvest[\"subdivision\"])\u001b[39;00m\n\u001b[1;32m      9\u001b[0m \u001b[38;5;28;01mfor\u001b[39;00m place \u001b[38;5;129;01min\u001b[39;00m harvest:\n\u001b[0;32m---> 10\u001b[0m     \u001b[38;5;28;01mif\u001b[39;00m place[\u001b[38;5;124m\"\u001b[39m\u001b[38;5;124msubdivison\u001b[39m\u001b[38;5;124m\"\u001b[39m] \u001b[38;5;241m==\u001b[39m \u001b[38;5;124m\"\u001b[39m\u001b[38;5;124mMinas Gerais\u001b[39m\u001b[38;5;124m\"\u001b[39m:\n\u001b[1;32m     11\u001b[0m         place\u001b[38;5;241m.\u001b[39mappenmd\n\u001b[1;32m     12\u001b[0m         \u001b[38;5;66;03m#minas_harvest = minas_harvest.setdefault(\"year\", \"million_60kgs_bag\") \u001b[39;00m\n\u001b[1;32m     13\u001b[0m         \u001b[38;5;66;03m#place[\"year\" : \"million_60kgs_bag\", \"year\" :\"bear_mill_trees\", \"year\" :\"nonbear_mill_trees\",\"year\" :\"avg_unemp_perc\"]\u001b[39;00m\n",
      "\u001b[0;31mTypeError\u001b[0m: string indices must be integers, not 'str'"
     ]
    }
   ],
   "source": [
    "minas_harvest = {}\n",
    "'''\n",
    "harvest[\"year\"]\n",
    "harvest[\"bear_mill_trees\"]\n",
    "harvest[\"nonbear_mill_trees\"]\n",
    "harvest[\"avg_unemp_perc\"]\n",
    "'''\n",
    "#print(harvest[\"subdivision\"])\n",
    "for place in harvest:\n",
    "    if place[\"subdivison\"] == \"Minas Gerais\":\n",
    "        place.append\n",
    "        #minas_harvest = minas_harvest.setdefault(\"year\", \"million_60kgs_bag\") \n",
    "        #place[\"year\" : \"million_60kgs_bag\", \"year\" :\"bear_mill_trees\", \"year\" :\"nonbear_mill_trees\",\"year\" :\"avg_unemp_perc\"]\n",
    "print(minas_harvest)       \n",
    "#\"million_60kgs_bag\", \"nonbear_mill_trees\", \"bear_mill_trees\", \"avg_unemp_perc\"\n",
    "print(minas_harvest)"
   ]
  },
  {
   "cell_type": "code",
   "execution_count": 34,
   "metadata": {},
   "outputs": [
    {
     "name": "stdout",
     "output_type": "stream",
     "text": [
      "                                    time  temperature  humidity  \\\n",
      "time                                                              \n",
      "2022-01-01 00:00:00  2022-01-01 00:00:00         18.0        96   \n",
      "2022-01-01 01:00:00  2022-01-01 01:00:00         18.2        95   \n",
      "2022-01-01 02:00:00  2022-01-01 02:00:00         18.0        96   \n",
      "2022-01-01 03:00:00  2022-01-01 03:00:00         17.9        97   \n",
      "2022-01-01 04:00:00  2022-01-01 04:00:00         17.8        98   \n",
      "...                                  ...          ...       ...   \n",
      "2023-12-31 19:00:00  2023-12-31 19:00:00         26.5        75   \n",
      "2023-12-31 20:00:00  2023-12-31 20:00:00         25.9        78   \n",
      "2023-12-31 21:00:00  2023-12-31 21:00:00         25.2        82   \n",
      "2023-12-31 22:00:00  2023-12-31 22:00:00         24.0        85   \n",
      "2023-12-31 23:00:00  2023-12-31 23:00:00         22.7        87   \n",
      "\n",
      "                     precipitation  pressure  \n",
      "time                                          \n",
      "2022-01-01 00:00:00            0.0     906.6  \n",
      "2022-01-01 01:00:00            0.1     907.4  \n",
      "2022-01-01 02:00:00            0.1     907.2  \n",
      "2022-01-01 03:00:00            0.3     906.5  \n",
      "2022-01-01 04:00:00            1.0     905.9  \n",
      "...                            ...       ...  \n",
      "2023-12-31 19:00:00            0.5     908.8  \n",
      "2023-12-31 20:00:00            0.5     908.4  \n",
      "2023-12-31 21:00:00            0.5     908.5  \n",
      "2023-12-31 22:00:00            3.2     909.0  \n",
      "2023-12-31 23:00:00            3.2     909.8  \n",
      "\n",
      "[17520 rows x 5 columns]\n"
     ]
    }
   ],
   "source": [
    "weather1 = weather.set_index(pd.DatetimeIndex(weather[\"time\"]))\n",
    "print(weather1)"
   ]
  },
  {
   "cell_type": "code",
   "execution_count": 35,
   "metadata": {},
   "outputs": [
    {
     "name": "stdout",
     "output_type": "stream",
     "text": [
      "(24,)\n"
     ]
    }
   ],
   "source": [
    "monthly_temps = weather1.resample(\"ME\")[\"temperature\"].median()\n",
    "#print(monthly_temps)\n",
    "print(monthly_temps.shape)\n",
    "#resampling tempurature_2m\n",
    "yearly_temps = weather1.resample(\"YE\")[\"temperature\"].median()\n"
   ]
  },
  {
   "cell_type": "code",
   "execution_count": 36,
   "metadata": {},
   "outputs": [],
   "source": [
    "monthly_humidity = weather1.resample(\"ME\")[\"humidity\"].median()\n",
    "#resampling realative_humidity\n",
    "yearly_humidity = weather1.resample(\"YE\")[\"humidity\"].median()"
   ]
  },
  {
   "cell_type": "code",
   "execution_count": 37,
   "metadata": {},
   "outputs": [],
   "source": [
    "monthly_rain = weather1.resample(\"ME\")[\"precipitation\"].median()\n",
    "#resampling precipitation\n",
    "yearly_rain = weather1.resample(\"YE\")[\"precipitation\"].median()\n"
   ]
  },
  {
   "cell_type": "code",
   "execution_count": 38,
   "metadata": {},
   "outputs": [],
   "source": [
    "monthly_psr = weather1.resample(\"ME\")[\"pressure\"].median()\n",
    "#resampling surface_pressure_2m\n",
    "yearly_psr = weather1.resample(\"YE\")[\"pressure\"].median()\n",
    "#df.to_csv(\"/Users/sa12/Documents/Repositories/WeatherDataMG/weather_api/data/csv/YearPressure.csv\", index=False)"
   ]
  },
  {
   "cell_type": "code",
   "execution_count": 39,
   "metadata": {},
   "outputs": [
    {
     "name": "stdout",
     "output_type": "stream",
     "text": [
      "                                         temperature  \\\n",
      "0  time\n",
      "2022-01-31    19.10\n",
      "2022-02-28    19.10\n",
      "2...   \n",
      "\n",
      "                                            humidity  \\\n",
      "0  time\n",
      "2022-01-31    92.0\n",
      "2022-02-28    92.0\n",
      "202...   \n",
      "\n",
      "                                       precipitation  \\\n",
      "0  time\n",
      "2022-01-31    0.1\n",
      "2022-02-28    0.0\n",
      "2022-...   \n",
      "\n",
      "                                            pressure  \n",
      "0  time\n",
      "2022-01-31    908.70\n",
      "2022-02-28    909.20...  \n"
     ]
    }
   ],
   "source": [
    "Monthly_Medians = pd.DataFrame({\"temperature\":[monthly_temps], \"humidity\":[monthly_humidity], \"precipitation\":[monthly_rain], \"pressure\":[monthly_psr]})\n",
    "print(Monthly_Medians)\n",
    "Monthly_Medians.to_csv(\"/Users/sa12/Documents/Repositories/WeatherDataMG/weather_api/data/csv/MonthlyMedians.csv\", index=True)\n",
    "Yearly_Medians = pd.DataFrame({\"temperature\":[yearly_temps], \"humidity\":[yearly_humidity], \"precipitation\":[yearly_rain], \"pressure\":[yearly_psr]})\n",
    "Yearly_Medians.to_csv(\"/Users/sa12/Documents/Repositories/WeatherDataMG/weather_api/data/csv/YearlyMedians.csv\", index=True)\n"
   ]
  },
  {
   "cell_type": "markdown",
   "metadata": {},
   "source": [
    "This block creates dataframes of the combined resamples for each timeframe, than saves those to csv files at the weather_api/data/csv path"
   ]
  }
 ],
 "metadata": {
  "kernelspec": {
   "display_name": "base",
   "language": "python",
   "name": "python3"
  },
  "language_info": {
   "codemirror_mode": {
    "name": "ipython",
    "version": 3
   },
   "file_extension": ".py",
   "mimetype": "text/x-python",
   "name": "python",
   "nbconvert_exporter": "python",
   "pygments_lexer": "ipython3",
   "version": "3.12.4"
  }
 },
 "nbformat": 4,
 "nbformat_minor": 2
}
