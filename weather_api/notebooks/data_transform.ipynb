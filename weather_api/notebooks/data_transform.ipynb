{
 "cells": [
  {
   "cell_type": "code",
   "execution_count": 194,
   "metadata": {},
   "outputs": [],
   "source": [
    "import pandas as pd\n",
    "import numpy as np"
   ]
  },
  {
   "cell_type": "markdown",
   "metadata": {},
   "source": [
    "### Goal: to retrieve professionally collected weather data from an online source to predict coffee harvests in Minas Gerais, Brazil"
   ]
  },
  {
   "cell_type": "markdown",
   "metadata": {},
   "source": [
    "##### This notebook will be used to resample, collect, and save median values of each selected measureable for different time periods to allow us to perform exploratory data analysis on trends and correlations between months and years."
   ]
  },
  {
   "cell_type": "code",
   "execution_count": 195,
   "metadata": {},
   "outputs": [],
   "source": [
    "#Files output by weather_api.py, and removing nulls\n",
    "weather = pd.read_csv(\"/Users/sa12/Documents/Repositories/WeatherDataMG/weather_api/data/csv/measurements.csv\").dropna()\n",
    "harvest = pd.read_csv(\"/Users/sa12/Documents/Repositories/WeatherDataMG/weather_api/data/csv/br_final.csv\").dropna()"
   ]
  },
  {
   "cell_type": "code",
   "execution_count": 196,
   "metadata": {},
   "outputs": [],
   "source": [
    "#set DatetimeIndex for easy resampling\n",
    "weather1 = weather.set_index(pd.DatetimeIndex(weather[\"time\"]))\n"
   ]
  },
  {
   "cell_type": "code",
   "execution_count": 197,
   "metadata": {},
   "outputs": [],
   "source": [
    "monthly_temps = weather1.resample(\"ME\")[\"temperature\"].median()\n",
    "#resampling tempurature_2m\n",
    "yearly_temps = weather1.resample(\"YE\")[\"temperature\"].median()\n"
   ]
  },
  {
   "cell_type": "code",
   "execution_count": 198,
   "metadata": {},
   "outputs": [],
   "source": [
    "monthly_humidity = weather1.resample(\"ME\")[\"humidity\"].median()\n",
    "#resampling realative_humidity\n",
    "yearly_humidity = weather1.resample(\"YE\")[\"humidity\"].median()"
   ]
  },
  {
   "cell_type": "code",
   "execution_count": 199,
   "metadata": {},
   "outputs": [],
   "source": [
    "monthly_rain = weather1.resample(\"ME\")[\"precipitation\"].median()\n",
    "#resampling precipitation\n",
    "yearly_rain = weather1.resample(\"YE\")[\"precipitation\"].median()\n"
   ]
  },
  {
   "cell_type": "code",
   "execution_count": 200,
   "metadata": {},
   "outputs": [],
   "source": [
    "monthly_psr = weather1.resample(\"ME\")[\"pressure\"].median()\n",
    "#resampling surface_pressure_2m\n",
    "yearly_psr = weather1.resample(\"YE\")[\"pressure\"].median()"
   ]
  },
  {
   "cell_type": "markdown",
   "metadata": {},
   "source": [
    "##### This block creates dataframes of the combined resamples for each timeframe, than saves those to csv files at the weather_api/data/csv path"
   ]
  },
  {
   "cell_type": "code",
   "execution_count": 201,
   "metadata": {},
   "outputs": [],
   "source": [
    "#saving the median values of each month\n",
    "Monthly_Medians = pd.DataFrame({\"temperature\":monthly_temps, \n",
    "                                \"humidity\":monthly_humidity, \n",
    "                                \"precipitation\":monthly_rain, \n",
    "                                \"pressure\":monthly_psr\n",
    "                                \n",
    "                                })\n",
    "Monthly_Medians.to_csv(\"/Users/sa12/Documents/Repositories/WeatherDataMG/weather_api/data/csv/MonthlyMedians.csv\", index=True)\n",
    "#saving the median values of each year\n",
    "Yearly_Medians = pd.DataFrame({\"temperature\":yearly_temps, \n",
    "                               \"humidity\":yearly_humidity, \n",
    "                               \"precipitation\":yearly_rain, \n",
    "                               \"pressure\":yearly_psr})\n",
    "Yearly_Medians.to_csv(\"/Users/sa12/Documents/Repositories/WeatherDataMG/weather_api/data/csv/YearlyMedians.csv\", index=True)\n",
    "\n"
   ]
  },
  {
   "cell_type": "markdown",
   "metadata": {},
   "source": [
    "##### Creating a single file with weather data in Minas Gerais taken from our web API combined with harvest data given to us in \"br_final.csv\""
   ]
  },
  {
   "cell_type": "code",
   "execution_count": 223,
   "metadata": {},
   "outputs": [],
   "source": [
    "minas_harvest = harvest[harvest[\"subdivision\"] == \"Minas Gerais\"].drop_duplicates()\n",
    "#a nifty iteration to take only the data from Minas Gerais. \n",
    "#If the bool is True, the whole rows data is collected\n",
    "#setting index to year is important, we will merge based on year\n",
    "minas_harvest = minas_harvest.set_index(minas_harvest[\"year\"])\n",
    "#Yearly_Medians already is resampled and index to Datetime\n",
    "Yearly_Medians1 = Yearly_Medians.reset_index(drop=False)\n",
    "#we remove that index and rename \"time to \"year\" creating uniformity\n",
    "Yearly_Medians1=Yearly_Medians1.rename(columns = {'time':'year'})\n",
    "#create a new variable to hold only the datetime value of the \"year\" column\n",
    "Yearly_Medians2 = pd.to_datetime(Yearly_Medians1[\"year\"], format=\"mixed\", yearfirst=True)\n",
    "#take only the year from this and overwrite the year data in our original variable\n",
    "Yearly_Medians1[\"year\"] = Yearly_Medians2.dt.year\n",
    "#and set the index to this single year, matching the format of minas_harvest\n",
    "Yearly_Medians1.set_index(Yearly_Medians1[\"year\"], inplace=True)\n",
    "#Now we merge outer, combining the indcies and data correctly\n",
    "harvest_weather = pd.merge(minas_harvest, Yearly_Medians1, how=\"outer\", left_index=True, right_index=True)\n",
    "#save to path weather_api/data/csv/harvest_weather.csv\n",
    "harvest_weather.to_csv(\"/Users/sa12/Documents/Repositories/WeatherDataMG/weather_api/data/csv/harvest_weather.csv\", index=True)"
   ]
  }
 ],
 "metadata": {
  "kernelspec": {
   "display_name": "base",
   "language": "python",
   "name": "python3"
  },
  "language_info": {
   "codemirror_mode": {
    "name": "ipython",
    "version": 3
   },
   "file_extension": ".py",
   "mimetype": "text/x-python",
   "name": "python",
   "nbconvert_exporter": "python",
   "pygments_lexer": "ipython3",
   "version": "3.12.4"
  }
 },
 "nbformat": 4,
 "nbformat_minor": 2
}
