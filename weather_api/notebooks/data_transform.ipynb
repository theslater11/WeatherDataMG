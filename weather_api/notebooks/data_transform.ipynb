{
 "cells": [
  {
   "cell_type": "code",
   "execution_count": 61,
   "metadata": {},
   "outputs": [],
   "source": [
    "import pandas as pd\n",
    "import numpy as np\n",
    "import matplotlib.pyplot as plt\n",
    "import seaborn as sns"
   ]
  },
  {
   "cell_type": "code",
   "execution_count": 64,
   "metadata": {},
   "outputs": [],
   "source": [
    "weather = pd.read_csv(\"/Users/sa12/Documents/Repositories/WeatherDataMG/weather_api/data/csv/measurements.csv\")\n",
    "harvest = pd.read_csv(\"/Users/sa12/Documents/Repositories/WeatherDataMG/weather_api/data/csv/br_final.csv\")"
   ]
  },
  {
   "cell_type": "code",
   "execution_count": 65,
   "metadata": {},
   "outputs": [
    {
     "name": "stdout",
     "output_type": "stream",
     "text": [
      "    country     subdivision     type  million_60kgs_bag  year  \\\n",
      "0    Brazil    Minas Gerais  Arabica               16.2  2002   \n",
      "1    Brazil  Espirito Santo  Arabica                2.2  2002   \n",
      "2    Brazil  Espirito Santo  Robusta                7.5  2002   \n",
      "3    Brazil       Sao Paulo  Arabica                3.2  2002   \n",
      "4    Brazil          Parana  Arabica                0.5  2002   \n",
      "..      ...             ...      ...                ...   ...   \n",
      "110  Brazil    Minas Gerais  Arabica               28.5  2023   \n",
      "111  Brazil  Espirito Santo  Arabica                4.4  2023   \n",
      "112  Brazil  Espirito Santo  Robusta               16.6  2023   \n",
      "113  Brazil       Sao Paulo  Arabica                5.1  2023   \n",
      "114  Brazil          Parana  Arabica                0.8  2023   \n",
      "\n",
      "     nonbear_mill_trees  bear_mill_trees  nonbear_thous_hect  bear_thous_hect  \\\n",
      "0                1500.0           4465.0               495.0           2120.0   \n",
      "1                1500.0           4465.0               495.0           2120.0   \n",
      "2                1500.0           4465.0               495.0           2120.0   \n",
      "3                1500.0           4465.0               495.0           2120.0   \n",
      "4                1500.0           4465.0               495.0           2120.0   \n",
      "..                  ...              ...                 ...              ...   \n",
      "110              1510.0           6100.0               475.0           2020.0   \n",
      "111              1510.0           6100.0               475.0           2020.0   \n",
      "112              1510.0           6100.0               475.0           2020.0   \n",
      "113              1510.0           6100.0               475.0           2020.0   \n",
      "114              1510.0           6100.0               475.0           2020.0   \n",
      "\n",
      "     trees_hect_bear  trees_hect_nonbear  avg_unemp_perc  \n",
      "0             2106.0              3030.0             NaN  \n",
      "1             2106.0              3030.0             NaN  \n",
      "2             2106.0              3030.0             NaN  \n",
      "3             2106.0              3030.0             NaN  \n",
      "4             2106.0              3030.0            6.95  \n",
      "..               ...                 ...             ...  \n",
      "110           3020.0              3179.0             NaN  \n",
      "111           3020.0              3179.0             NaN  \n",
      "112           3020.0              3179.0             NaN  \n",
      "113           3020.0              3179.0             NaN  \n",
      "114           3020.0              3179.0             NaN  \n",
      "\n",
      "[115 rows x 12 columns]\n"
     ]
    }
   ],
   "source": [
    "print(harvest)\n"
   ]
  },
  {
   "cell_type": "code",
   "execution_count": 63,
   "metadata": {},
   "outputs": [
    {
     "ename": "TypeError",
     "evalue": "Only valid with DatetimeIndex, TimedeltaIndex or PeriodIndex, but got an instance of 'RangeIndex'",
     "output_type": "error",
     "traceback": [
      "\u001b[0;31m---------------------------------------------------------------------------\u001b[0m",
      "\u001b[0;31mTypeError\u001b[0m                                 Traceback (most recent call last)",
      "Cell \u001b[0;32mIn[63], line 1\u001b[0m\n\u001b[0;32m----> 1\u001b[0m monthly_temps \u001b[38;5;241m=\u001b[39m [df\u001b[38;5;241m.\u001b[39mresample(\u001b[38;5;124m\"\u001b[39m\u001b[38;5;124m1ME\u001b[39m\u001b[38;5;124m\"\u001b[39m)[\u001b[38;5;124m\"\u001b[39m\u001b[38;5;124mtemperature\u001b[39m\u001b[38;5;124m\"\u001b[39m]\u001b[38;5;241m.\u001b[39mmedian()]\n\u001b[1;32m      2\u001b[0m yearly_temps \u001b[38;5;241m=\u001b[39m [df\u001b[38;5;241m.\u001b[39mresample(\u001b[38;5;124m\"\u001b[39m\u001b[38;5;124m1Y\u001b[39m\u001b[38;5;124m\"\u001b[39m)[\u001b[38;5;124m\"\u001b[39m\u001b[38;5;124mtemperature\u001b[39m\u001b[38;5;124m\"\u001b[39m]\u001b[38;5;241m.\u001b[39mmedian()]\n",
      "File \u001b[0;32m/opt/anaconda3/lib/python3.12/site-packages/pandas/core/generic.py:9771\u001b[0m, in \u001b[0;36mNDFrame.resample\u001b[0;34m(self, rule, axis, closed, label, convention, kind, on, level, origin, offset, group_keys)\u001b[0m\n\u001b[1;32m   9768\u001b[0m \u001b[38;5;28;01melse\u001b[39;00m:\n\u001b[1;32m   9769\u001b[0m     convention \u001b[38;5;241m=\u001b[39m \u001b[38;5;124m\"\u001b[39m\u001b[38;5;124mstart\u001b[39m\u001b[38;5;124m\"\u001b[39m\n\u001b[0;32m-> 9771\u001b[0m \u001b[38;5;28;01mreturn\u001b[39;00m get_resampler(\n\u001b[1;32m   9772\u001b[0m     cast(\u001b[38;5;124m\"\u001b[39m\u001b[38;5;124mSeries | DataFrame\u001b[39m\u001b[38;5;124m\"\u001b[39m, \u001b[38;5;28mself\u001b[39m),\n\u001b[1;32m   9773\u001b[0m     freq\u001b[38;5;241m=\u001b[39mrule,\n\u001b[1;32m   9774\u001b[0m     label\u001b[38;5;241m=\u001b[39mlabel,\n\u001b[1;32m   9775\u001b[0m     closed\u001b[38;5;241m=\u001b[39mclosed,\n\u001b[1;32m   9776\u001b[0m     axis\u001b[38;5;241m=\u001b[39maxis,\n\u001b[1;32m   9777\u001b[0m     kind\u001b[38;5;241m=\u001b[39mkind,\n\u001b[1;32m   9778\u001b[0m     convention\u001b[38;5;241m=\u001b[39mconvention,\n\u001b[1;32m   9779\u001b[0m     key\u001b[38;5;241m=\u001b[39mon,\n\u001b[1;32m   9780\u001b[0m     level\u001b[38;5;241m=\u001b[39mlevel,\n\u001b[1;32m   9781\u001b[0m     origin\u001b[38;5;241m=\u001b[39morigin,\n\u001b[1;32m   9782\u001b[0m     offset\u001b[38;5;241m=\u001b[39moffset,\n\u001b[1;32m   9783\u001b[0m     group_keys\u001b[38;5;241m=\u001b[39mgroup_keys,\n\u001b[1;32m   9784\u001b[0m )\n",
      "File \u001b[0;32m/opt/anaconda3/lib/python3.12/site-packages/pandas/core/resample.py:2050\u001b[0m, in \u001b[0;36mget_resampler\u001b[0;34m(obj, kind, **kwds)\u001b[0m\n\u001b[1;32m   2046\u001b[0m \u001b[38;5;250m\u001b[39m\u001b[38;5;124;03m\"\"\"\u001b[39;00m\n\u001b[1;32m   2047\u001b[0m \u001b[38;5;124;03mCreate a TimeGrouper and return our resampler.\u001b[39;00m\n\u001b[1;32m   2048\u001b[0m \u001b[38;5;124;03m\"\"\"\u001b[39;00m\n\u001b[1;32m   2049\u001b[0m tg \u001b[38;5;241m=\u001b[39m TimeGrouper(obj, \u001b[38;5;241m*\u001b[39m\u001b[38;5;241m*\u001b[39mkwds)  \u001b[38;5;66;03m# type: ignore[arg-type]\u001b[39;00m\n\u001b[0;32m-> 2050\u001b[0m \u001b[38;5;28;01mreturn\u001b[39;00m tg\u001b[38;5;241m.\u001b[39m_get_resampler(obj, kind\u001b[38;5;241m=\u001b[39mkind)\n",
      "File \u001b[0;32m/opt/anaconda3/lib/python3.12/site-packages/pandas/core/resample.py:2272\u001b[0m, in \u001b[0;36mTimeGrouper._get_resampler\u001b[0;34m(self, obj, kind)\u001b[0m\n\u001b[1;32m   2263\u001b[0m \u001b[38;5;28;01melif\u001b[39;00m \u001b[38;5;28misinstance\u001b[39m(ax, TimedeltaIndex):\n\u001b[1;32m   2264\u001b[0m     \u001b[38;5;28;01mreturn\u001b[39;00m TimedeltaIndexResampler(\n\u001b[1;32m   2265\u001b[0m         obj,\n\u001b[1;32m   2266\u001b[0m         timegrouper\u001b[38;5;241m=\u001b[39m\u001b[38;5;28mself\u001b[39m,\n\u001b[0;32m   (...)\u001b[0m\n\u001b[1;32m   2269\u001b[0m         gpr_index\u001b[38;5;241m=\u001b[39max,\n\u001b[1;32m   2270\u001b[0m     )\n\u001b[0;32m-> 2272\u001b[0m \u001b[38;5;28;01mraise\u001b[39;00m \u001b[38;5;167;01mTypeError\u001b[39;00m(\n\u001b[1;32m   2273\u001b[0m     \u001b[38;5;124m\"\u001b[39m\u001b[38;5;124mOnly valid with DatetimeIndex, \u001b[39m\u001b[38;5;124m\"\u001b[39m\n\u001b[1;32m   2274\u001b[0m     \u001b[38;5;124m\"\u001b[39m\u001b[38;5;124mTimedeltaIndex or PeriodIndex, \u001b[39m\u001b[38;5;124m\"\u001b[39m\n\u001b[1;32m   2275\u001b[0m     \u001b[38;5;124mf\u001b[39m\u001b[38;5;124m\"\u001b[39m\u001b[38;5;124mbut got an instance of \u001b[39m\u001b[38;5;124m'\u001b[39m\u001b[38;5;132;01m{\u001b[39;00m\u001b[38;5;28mtype\u001b[39m(ax)\u001b[38;5;241m.\u001b[39m\u001b[38;5;18m__name__\u001b[39m\u001b[38;5;132;01m}\u001b[39;00m\u001b[38;5;124m'\u001b[39m\u001b[38;5;124m\"\u001b[39m\n\u001b[1;32m   2276\u001b[0m )\n",
      "\u001b[0;31mTypeError\u001b[0m: Only valid with DatetimeIndex, TimedeltaIndex or PeriodIndex, but got an instance of 'RangeIndex'"
     ]
    }
   ],
   "source": [
    "monthly_temps = [df.resample(\"1ME\")[\"temperature\"].median()]\n",
    "yearly_temps = [df.resample(\"1Y\")[\"temperature\"].median()]"
   ]
  },
  {
   "cell_type": "code",
   "execution_count": 46,
   "metadata": {},
   "outputs": [
    {
     "data": {
      "text/plain": [
       "precipitation\n",
       "0.0     19.467089\n",
       "0.1     22.151736\n",
       "0.2     21.854478\n",
       "0.3     21.059649\n",
       "0.4     21.057082\n",
       "0.5     21.218280\n",
       "0.6     21.159748\n",
       "0.7     20.726277\n",
       "0.8     21.167188\n",
       "0.9     21.036538\n",
       "1.0     20.545783\n",
       "1.1     20.976344\n",
       "1.2     20.774286\n",
       "1.3     20.637500\n",
       "1.4     21.261538\n",
       "1.5     21.074510\n",
       "1.6     20.647727\n",
       "1.7     20.718421\n",
       "1.8     20.490909\n",
       "1.9     21.112500\n",
       "2.0     21.422727\n",
       "2.1     22.226087\n",
       "2.2     19.707692\n",
       "2.3     21.621429\n",
       "2.4     20.842857\n",
       "2.5     20.563636\n",
       "2.6     20.355556\n",
       "2.7     19.800000\n",
       "2.8     21.866667\n",
       "2.9     21.330000\n",
       "3.0     20.823077\n",
       "3.1     20.475000\n",
       "3.2     20.766667\n",
       "3.3     20.412500\n",
       "3.4     20.025000\n",
       "3.5     18.825000\n",
       "3.6     21.128571\n",
       "3.7     22.950000\n",
       "3.8     19.875000\n",
       "3.9     23.150000\n",
       "4.0     23.100000\n",
       "4.1     19.766667\n",
       "4.2     19.100000\n",
       "4.3     21.250000\n",
       "4.4     20.900000\n",
       "4.6     22.500000\n",
       "4.7     20.700000\n",
       "4.8     14.500000\n",
       "5.0     18.250000\n",
       "5.3     19.050000\n",
       "5.4     17.450000\n",
       "6.0     13.900000\n",
       "6.1     21.550000\n",
       "6.4     18.700000\n",
       "7.6     18.700000\n",
       "8.8     21.000000\n",
       "10.9    17.200000\n",
       "Name: temperature, dtype: float64"
      ]
     },
     "execution_count": 46,
     "metadata": {},
     "output_type": "execute_result"
    }
   ],
   "source": [
    "monthly_humidity = df.resample(\"1ME\")[\"relative humidity\"].median()\n",
    "yearly_humidity = df.resample(\"1Y\")[\"relative humidity\"].median()"
   ]
  },
  {
   "cell_type": "code",
   "execution_count": null,
   "metadata": {},
   "outputs": [],
   "source": [
    "monthly_rain = df.resample(\"1ME\")[\"precipitation\"].mean()\n",
    "#df.to_csv(\"/Users/sa12/Documents/Repositories/WeatherDataMG/weather_api/data/csv/MonPrecipitation.csv\", index=False)\n",
    "yearly_rain = df.resample(\"1Y\")[\"precipitation\"].mean()\n",
    "#df.to_csv(\"/Users/sa12/Documents/Repositories/WeatherDataMG/weather_api/data/csv/YearPrecipitation.csv\", index=False)"
   ]
  },
  {
   "cell_type": "code",
   "execution_count": null,
   "metadata": {},
   "outputs": [],
   "source": [
    "monthly_psr = df.resample(\"1ME\")[\"surface pressure\"].mean()\n",
    "print(monthly_psr)\n",
    "yearly_psr = df.resample(\"1Y\")[\"surface pressure\"].mean()\n",
    "#df.to_csv(\"/Users/sa12/Documents/Repositories/WeatherDataMG/weather_api/data/csv/YearPressure.csv\", index=False)"
   ]
  },
  {
   "cell_type": "code",
   "execution_count": null,
   "metadata": {},
   "outputs": [],
   "source": []
  }
 ],
 "metadata": {
  "kernelspec": {
   "display_name": "base",
   "language": "python",
   "name": "python3"
  },
  "language_info": {
   "codemirror_mode": {
    "name": "ipython",
    "version": 3
   },
   "file_extension": ".py",
   "mimetype": "text/x-python",
   "name": "python",
   "nbconvert_exporter": "python",
   "pygments_lexer": "ipython3",
   "version": "3.12.4"
  }
 },
 "nbformat": 4,
 "nbformat_minor": 2
}
