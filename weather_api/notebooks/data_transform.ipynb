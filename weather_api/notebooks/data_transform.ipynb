{
 "cells": [
  {
   "cell_type": "code",
   "execution_count": 245,
   "metadata": {},
   "outputs": [],
   "source": [
    "import pandas as pd\n",
    "import numpy as np"
   ]
  },
  {
   "cell_type": "markdown",
   "metadata": {},
   "source": [
    "### Goal: to retrieve professionally collected weather data from an online source to predict coffee harvests in Minas Gerais, Brazil"
   ]
  },
  {
   "cell_type": "markdown",
   "metadata": {},
   "source": [
    "##### This notebook will be used to resample, collect, and save median values of each selected measureable for different time periods to allow us to perform exploratory data analysis on trends and correlations between months and years."
   ]
  },
  {
   "cell_type": "code",
   "execution_count": 246,
   "metadata": {},
   "outputs": [],
   "source": [
    "#Files output by weather_api.py, and removing nulls\n",
    "weather = pd.read_csv(\"/Users/sa12/Documents/Repositories/WeatherDataMG/weather_api/data/csv/measurements.csv\").dropna()\n",
    "harvest = pd.read_csv(\"/Users/sa12/Documents/Repositories/WeatherDataMG/weather_api/data/csv/br_final.csv\").dropna()"
   ]
  },
  {
   "cell_type": "code",
   "execution_count": 247,
   "metadata": {},
   "outputs": [],
   "source": [
    "#set DatetimeIndex for easy resampling\n",
    "weather1 = weather.set_index(pd.DatetimeIndex(weather[\"time\"]))"
   ]
  },
  {
   "cell_type": "code",
   "execution_count": 249,
   "metadata": {},
   "outputs": [],
   "source": [
    "monthly_temps = weather1.resample(\"ME\")[\"temperature\"].median()\n",
    "#resampling tempurature_2m\n",
    "yearly_temps = weather1.resample(\"YE\")[\"temperature\"].median()"
   ]
  },
  {
   "cell_type": "code",
   "execution_count": 250,
   "metadata": {},
   "outputs": [],
   "source": [
    "monthly_humidity = weather1.resample(\"ME\")[\"humidity\"].median()\n",
    "#resampling realative_humidity\n",
    "yearly_humidity = weather1.resample(\"YE\")[\"humidity\"].median()"
   ]
  },
  {
   "cell_type": "code",
   "execution_count": 251,
   "metadata": {},
   "outputs": [],
   "source": [
    "monthly_rain = weather1.resample(\"ME\")[\"precipitation\"].median()\n",
    "#resampling precipitation\n",
    "yearly_rain = weather1.resample(\"YE\")[\"precipitation\"].median()"
   ]
  },
  {
   "cell_type": "code",
   "execution_count": 252,
   "metadata": {},
   "outputs": [],
   "source": [
    "monthly_psr = weather1.resample(\"ME\")[\"pressure\"].median()\n",
    "#resampling surface_pressure_2m\n",
    "yearly_psr = weather1.resample(\"YE\")[\"pressure\"].median()"
   ]
  },
  {
   "cell_type": "markdown",
   "metadata": {},
   "source": [
    "##### This block creates dataframes of the combined resamples for each timeframe, than saves those to csv files at the weather_api/data/csv path"
   ]
  },
  {
   "cell_type": "code",
   "execution_count": 253,
   "metadata": {},
   "outputs": [],
   "source": [
    "#saving the median values of each month\n",
    "Monthly_Medians = pd.DataFrame({\"temperature\":monthly_temps, \n",
    "                                \"humidity\":monthly_humidity, \n",
    "                                \"precipitation\":monthly_rain, \n",
    "                                \"pressure\":monthly_psr\n",
    "                                \n",
    "                                })\n",
    "Monthly_Medians.to_csv(\"/Users/sa12/Documents/Repositories/WeatherDataMG/weather_api/data/csv/MonthlyMedians.csv\", index=True)\n",
    "#saving the median values of each year\n",
    "Yearly_Medians = pd.DataFrame({\"temperature\":yearly_temps, \n",
    "                               \"humidity\":yearly_humidity, \n",
    "                               \"precipitation\":yearly_rain, \n",
    "                               \"pressure\":yearly_psr})\n",
    "Yearly_Medians.to_csv(\"/Users/sa12/Documents/Repositories/WeatherDataMG/weather_api/data/csv/YearlyMedians.csv\", index=True)"
   ]
  },
  {
   "cell_type": "markdown",
   "metadata": {},
   "source": [
    "##### Creating a single file with weather data in Minas Gerais taken from our web API combined with harvest data given to us in \"br_final.csv\""
   ]
  },
  {
   "cell_type": "code",
   "execution_count": 260,
   "metadata": {},
   "outputs": [
    {
     "name": "stdout",
     "output_type": "stream",
     "text": [
      "     country   subdivision     type  million_60kgs_bag  year_x  \\\n",
      "year                                                             \n",
      "2012  Brazil  Minas Gerais  Arabica               23.5  2012.0   \n",
      "2013  Brazil  Minas Gerais  Arabica               28.5  2013.0   \n",
      "2014  Brazil  Minas Gerais  Arabica               29.4  2014.0   \n",
      "2015  Brazil  Minas Gerais  Arabica               26.0  2015.0   \n",
      "2016  Brazil  Minas Gerais  Arabica               25.3  2016.0   \n",
      "2017  Brazil  Minas Gerais  Arabica               32.5  2017.0   \n",
      "2019  Brazil  Minas Gerais  Arabica               34.2  2019.0   \n",
      "2020  Brazil  Minas Gerais  Arabica               29.1  2020.0   \n",
      "2021  Brazil  Minas Gerais  Arabica               34.8  2021.0   \n",
      "2022  Brazil  Minas Gerais  Arabica               24.5  2022.0   \n",
      "2023     NaN           NaN      NaN                NaN     NaN   \n",
      "\n",
      "      nonbear_mill_trees  bear_mill_trees  nonbear_thous_hect  \\\n",
      "year                                                            \n",
      "2012               835.0           5760.0               260.0   \n",
      "2013              1000.0           5860.0               282.0   \n",
      "2014              1055.0           5810.0               307.0   \n",
      "2015              1185.0           5770.0               347.0   \n",
      "2016              1125.0           5735.0               340.0   \n",
      "2017              1300.0           5640.0               380.0   \n",
      "2019              1150.0           5740.0               335.0   \n",
      "2020              1230.0           5700.0               350.0   \n",
      "2021              1050.0           6200.0               320.0   \n",
      "2022              1500.0           6010.0               470.0   \n",
      "2023                 NaN              NaN                 NaN   \n",
      "\n",
      "      bear_thous_hect  trees_hect_bear  trees_hect_nonbear  avg_unemp_perc  \\\n",
      "year                                                                         \n",
      "2012           2150.0           2679.0              3212.0           6.975   \n",
      "2013           2105.0           2784.0              3546.0           6.650   \n",
      "2014           2135.0           2721.0              3436.0           6.800   \n",
      "2015           2090.0           2761.0              3415.0           8.625   \n",
      "2016           2070.0           2771.0              3309.0          11.200   \n",
      "2017           2020.0           2792.0              3421.0          12.250   \n",
      "2019           2060.0           2786.0              3433.0          10.100   \n",
      "2020           2040.0           2794.0              3514.0          12.750   \n",
      "2021           2100.0           2952.0              3281.0          11.650   \n",
      "2022           2010.0           2990.0              3191.0           7.150   \n",
      "2023              NaN              NaN                 NaN             NaN   \n",
      "\n",
      "      year_y  temperature  humidity  precipitation  pressure  \n",
      "year                                                          \n",
      "2012     NaN          NaN       NaN            NaN       NaN  \n",
      "2013     NaN          NaN       NaN            NaN       NaN  \n",
      "2014     NaN          NaN       NaN            NaN       NaN  \n",
      "2015     NaN          NaN       NaN            NaN       NaN  \n",
      "2016     NaN          NaN       NaN            NaN       NaN  \n",
      "2017     NaN          NaN       NaN            NaN       NaN  \n",
      "2019     NaN          NaN       NaN            NaN       NaN  \n",
      "2020     NaN          NaN       NaN            NaN       NaN  \n",
      "2021     NaN          NaN       NaN            NaN       NaN  \n",
      "2022  2022.0         18.6      78.0            0.0     911.4  \n",
      "2023  2023.0         20.7      78.0            0.0     913.4  \n"
     ]
    }
   ],
   "source": [
    "minas_harvest = harvest[harvest[\"subdivision\"] == \"Minas Gerais\"].drop_duplicates()\n",
    "#a nifty iteration to take only the data from Minas Gerais. \n",
    "#If the bool is True, the whole rows data is collected\n",
    "#setting index to year is important, we will merge based on year\n",
    "minas_harvest = minas_harvest.set_index(minas_harvest[\"year\"])\n",
    "#Yearly_Medians already is resampled and index to Datetime\n",
    "Yearly_Medians1 = Yearly_Medians.reset_index(drop=False)\n",
    "#we remove that index and rename \"time to \"year\" creating uniformity\n",
    "Yearly_Medians1=Yearly_Medians1.rename(columns = {'time':'year'})\n",
    "#create a new variable to hold only the datetime value of the \"year\" column\n",
    "Yearly_Medians2 = pd.to_datetime(Yearly_Medians1[\"year\"], format=\"mixed\", yearfirst=True)\n",
    "#take only the year from this and overwrite the year data in our original variable\n",
    "Yearly_Medians1[\"year\"] = Yearly_Medians2.dt.year\n",
    "#and set the index to this single year, matching the format of minas_harvest\n",
    "Yearly_Medians1.set_index(Yearly_Medians1[\"year\"], inplace=True)\n",
    "#Now we merge outer, combining the indcies and data correctly\n",
    "harvest_weather = pd.merge(minas_harvest, Yearly_Medians1, how=\"outer\", left_index=True, right_index=True)\n",
    "#save to path weather_api/data/csv/harvest_weather.csv\n",
    "harvest_weather.to_csv(\"/Users/sa12/Documents/Repositories/WeatherDataMG/weather_api/data/csv/harvest_weather.csv\", index=True)"
   ]
  }
 ],
 "metadata": {
  "kernelspec": {
   "display_name": "base",
   "language": "python",
   "name": "python3"
  },
  "language_info": {
   "codemirror_mode": {
    "name": "ipython",
    "version": 3
   },
   "file_extension": ".py",
   "mimetype": "text/x-python",
   "name": "python",
   "nbconvert_exporter": "python",
   "pygments_lexer": "ipython3",
   "version": "3.12.4"
  }
 },
 "nbformat": 4,
 "nbformat_minor": 2
}
