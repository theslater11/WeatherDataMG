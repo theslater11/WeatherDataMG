{
 "cells": [
  {
   "cell_type": "code",
   "execution_count": 13,
   "metadata": {},
   "outputs": [],
   "source": [
    "import pandas as pd\n",
    "import numpy as np\n",
    "import matplotlib.pyplot as plt\n",
    "import seaborn as sns"
   ]
  },
  {
   "cell_type": "code",
   "execution_count": 18,
   "metadata": {},
   "outputs": [
    {
     "name": "stdout",
     "output_type": "stream",
     "text": [
      "          time  temperature  humidity  precipitation  pressure\n",
      "0   2022-01-31        19.10      92.0            0.1    908.70\n",
      "1   2022-02-28        19.10      92.0            0.0    909.20\n",
      "2   2022-03-31        19.80      84.0            0.0    910.10\n",
      "3   2022-04-30        18.45      83.0            0.0    911.30\n",
      "4   2022-05-31        14.80      79.0            0.0    912.40\n",
      "5   2022-06-30        15.40      73.0            0.0    913.10\n",
      "6   2022-07-31        15.85      59.0            0.0    914.40\n",
      "7   2022-08-31        16.70      56.0            0.0    914.00\n",
      "8   2022-09-30        18.60      61.0            0.0    912.30\n",
      "9   2022-10-31        19.80      72.0            0.0    910.70\n",
      "10  2022-11-30        18.80      78.0            0.0    910.80\n",
      "11  2022-12-31        20.40      86.0            0.0    910.50\n",
      "12  2023-01-31        20.50      88.0            0.1    911.80\n",
      "13  2023-02-28        21.80      86.0            0.0    912.60\n",
      "14  2023-03-31        21.65      82.0            0.0    913.40\n",
      "15  2023-04-30        19.70      81.0            0.0    912.80\n",
      "16  2023-05-31        17.30      76.0            0.0    914.80\n",
      "17  2023-06-30        15.80      78.0            0.0    916.10\n",
      "18  2023-07-31        16.70      72.0            0.0    916.50\n",
      "19  2023-08-31        18.80      69.5            0.0    915.30\n",
      "20  2023-09-30        23.00      60.0            0.0    914.25\n",
      "21  2023-10-31        22.60      80.0            0.0    912.20\n",
      "22  2023-11-30        23.90      71.5            0.0    911.50\n",
      "23  2023-12-31        23.30      76.0            0.0    911.80\n"
     ]
    }
   ],
   "source": [
    "monthly = pd.read_csv(\"/Users/sa12/Documents/Repositories/WeatherDataMG/weather_api/data/csv/MonthlyMedians.csv\")\n",
    "yearly = pd.read_csv(\"/Users/sa12/Documents/Repositories/WeatherDataMG/weather_api/data/csv/YearlyMedians.csv\")\n",
    "print(monthly)"
   ]
  },
  {
   "cell_type": "code",
   "execution_count": 20,
   "metadata": {},
   "outputs": [
    {
     "data": {
      "text/plain": [
       "<Axes: ylabel='Frequency'>"
      ]
     },
     "execution_count": 20,
     "metadata": {},
     "output_type": "execute_result"
    },
    {
     "data": {
      "image/png": "[encoded data removed]",
      "text/plain": [
       "<Figure size 640x480 with 1 Axes>"
      ]
     },
     "metadata": {},
     "output_type": "display_data"
    }
   ],
   "source": [
    "monthly[\"temperature\"].plot.hist()"
   ]
  }
 ],
 "metadata": {
  "kernelspec": {
   "display_name": "base",
   "language": "python",
   "name": "python3"
  },
  "language_info": {
   "codemirror_mode": {
    "name": "ipython",
    "version": 3
   },
   "file_extension": ".py",
   "mimetype": "text/x-python",
   "name": "python",
   "nbconvert_exporter": "python",
   "pygments_lexer": "ipython3",
   "version": "3.12.4"
  }
 },
 "nbformat": 4,
 "nbformat_minor": 2
}
